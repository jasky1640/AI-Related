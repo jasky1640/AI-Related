{
 "cells": [
  {
   "cell_type": "code",
   "execution_count": 1,
   "metadata": {},
   "outputs": [],
   "source": [
    "from pgmpy.models import BayesianModel\n",
    "from pgmpy.factors.discrete import TabularCPD\n",
    "from pgmpy.inference import VariableElimination"
   ]
  },
  {
   "cell_type": "markdown",
   "metadata": {},
   "source": [
    "### Programming Assignment 2\n",
    "#### Jiaqi Yang (jxy530)\n",
    "#### November 15th, Friday"
   ]
  },
  {
   "cell_type": "markdown",
   "metadata": {},
   "source": [
    "##### Exercise 1. Noisy Fuel Guage (From Bishop)\n",
    "Consider a model of a noisy electric fuel gauge in an old and unreliable car. The state of the guage G indicates\n",
    "the fuel level F. The gauge is electric, so it depends on the fuel level F and the state of the battery B. For\n",
    "simplicity, assume the states are binary with 0 and 1 representing empty and full respectively for G and F or\n",
    "dead and charged for B."
   ]
  },
  {
   "cell_type": "markdown",
   "metadata": {},
   "source": [
    "a) Define this Bayes net using the pgmpy toolbox. Use the following probabilities:\n",
    "\n",
    "p(B = 1) = 0.8 (1)\n",
    "\n",
    "p(F = 1) = 0.9 (2)\n",
    "\n",
    "p(G = 1|B = 0,F = 0) = 0.1 (3)\n",
    "\n",
    "p(G = 1|B = 1,F = 0) = 0.1 (4)\n",
    "\n",
    "p(G = 1|B = 0,F = 1) = 0.2 (5)\n",
    "\n",
    "p(G = 1|B = 1,F = 1) = 0.9 (6)"
   ]
  },
  {
   "cell_type": "code",
   "execution_count": 2,
   "metadata": {
    "scrolled": true
   },
   "outputs": [
    {
     "data": {
      "text/plain": [
       "True"
      ]
     },
     "execution_count": 2,
     "metadata": {},
     "output_type": "execute_result"
    }
   ],
   "source": [
    "# Defining the model structure for problem 1\n",
    "model_p1 = BayesianModel([('F', 'G'), ('B', 'G')])\n",
    "\n",
    "# Defining CPD of fuel level F\n",
    "cpd_f = TabularCPD(variable='F', variable_card=2, values=[[0.1, 0.9]], state_names={'F':['Empty','Full']})\n",
    "\n",
    "# Define CPD of state of battery B\n",
    "cpd_b = TabularCPD(variable='B', variable_card=2, values=[[0.2, 0.8]], state_names={'B':['Dead','Charged']})\n",
    "\n",
    "# Define CPD of state of guage G\n",
    "#    +---------+---------+---------+---------+---------+\n",
    "#    | battery |battery_0|battery_0|battery_1|battery_1|\n",
    "#    +---------+---------+---------+---------+---------+\n",
    "#    | fuel    | fuel_0  | fuel_1  | fuel_0  | fuel_1  |\n",
    "#    +---------+---------+---------+---------+---------+\n",
    "#    | guage_0 | 0.9     | 0.8     | 0.9     | 0.1     |\n",
    "#    +---------+---------+---------+---------+---------+\n",
    "#    | guage_1 | 0.1     | 0.2     | 0.1     | 0.9     |\n",
    "#    +---------+---------+---------+---------+---------+\n",
    "cpd_g = TabularCPD(variable='G', variable_card=2, \n",
    "                   values=[[0.9, 0.8, 0.9, 0.1],\n",
    "                           [0.1, 0.2, 0.1, 0.9]],\n",
    "                  evidence=['B', 'F'],\n",
    "                  evidence_card=[2, 2],\n",
    "                  state_names={'G':['Empty Read', 'Full Read'],\n",
    "                               'B':['Dead','Charged'],\n",
    "                               'F':['Empty','Full']})\n",
    "\n",
    "\n",
    "# Associating the CPDs with the network\n",
    "model_p1.add_cpds(cpd_f, cpd_b, cpd_g)\n",
    "\n",
    "# check_model checks for the network structure and CPDs and verifies that the CPDs are correctly \n",
    "# defined and sum to 1.\n",
    "model_p1.check_model()"
   ]
  },
  {
   "cell_type": "code",
   "execution_count": 3,
   "metadata": {
    "scrolled": true
   },
   "outputs": [
    {
     "name": "stdout",
     "output_type": "stream",
     "text": [
      "CPD of state of battery B\n",
      "+------------+-----+\n",
      "| B(Dead)    | 0.2 |\n",
      "+------------+-----+\n",
      "| B(Charged) | 0.8 |\n",
      "+------------+-----+\n",
      "CPD of fuel level F\n",
      "+----------+-----+\n",
      "| F(Empty) | 0.1 |\n",
      "+----------+-----+\n",
      "| F(Full)  | 0.9 |\n",
      "+----------+-----+\n",
      "CPD of state of guage G\n",
      "+---------------+----------+---------+------------+------------+\n",
      "| B             | B(Dead)  | B(Dead) | B(Charged) | B(Charged) |\n",
      "+---------------+----------+---------+------------+------------+\n",
      "| F             | F(Empty) | F(Full) | F(Empty)   | F(Full)    |\n",
      "+---------------+----------+---------+------------+------------+\n",
      "| G(Empty Read) | 0.9      | 0.8     | 0.9        | 0.1        |\n",
      "+---------------+----------+---------+------------+------------+\n",
      "| G(Full Read)  | 0.1      | 0.2     | 0.1        | 0.9        |\n",
      "+---------------+----------+---------+------------+------------+\n"
     ]
    }
   ],
   "source": [
    "print('CPD of state of battery B')\n",
    "print(model_p1.get_cpds('B'))\n",
    "print('CPD of fuel level F')\n",
    "print(model_p1.get_cpds('F'))\n",
    "print('CPD of state of guage G')\n",
    "print(model_p1.get_cpds('G'))"
   ]
  },
  {
   "cell_type": "code",
   "execution_count": 4,
   "metadata": {},
   "outputs": [],
   "source": [
    "infer_p1 = VariableElimination(model_p1)"
   ]
  },
  {
   "cell_type": "markdown",
   "metadata": {},
   "source": [
    "b) Derive the mathmatical expression for the probability that the fuel tank is empty given that the fuel\n",
    "guage reads empty. Be sure to express this in terms of probabilities that are defined for the model."
   ]
  },
  {
   "cell_type": "markdown",
   "metadata": {},
   "source": [
    "To find the probability that the fuel tank is empty (F = 0) given that the fuel guage reads empty (G = 0), which is P(F = 0|G = 0).\n",
    "###### P(F = 0|G = 0) = P(G = 0|F = 0) P(F = 0) / P(G = 0)\n",
    "First we express P(G = 0) = P(G = 0|B,F) P(B) P(F) for all possible values for B and F (which is 0 and 1):\n",
    "    Therefore, we get P(¬G|¬B,¬F) P(¬B) P(¬F) + P(¬G|B,¬F) P(B) P(¬F) + P(¬G|¬B,F) P(¬B) P(F) +  P(¬G|B,F) P(B) P(F)\n",
    "                    = 0.9 x 0.2 x 0.1 + 0.8 x 0.2 x 0.9 + 0.9 x 0.8 x 0.1 + 0.1 x 0.8 x 0.9\n",
    "                    = 0.306\n",
    "                    \n",
    "Second we express P(G = 0|F = 0) = P(G = 0|F = 0, B) P(B) for all possible values for B (which is 0 and 1):\n",
    "    Therefore, we get P(¬G|¬B,¬F) P(¬B) + P(¬G|B,¬F) P(B)\n",
    "                    = 0.9 x 0.2 + 0.9 x 0.8\n",
    "                    = 0.9\n",
    "                    \n",
    "Lastly, we could calculate based on P(F = 0|G = 0) = P(G = 0|F = 0) P(F = 0) / P(G = 0)\n",
    "                                  = 0.9 x 0.1 / 0.306\n",
    "                                  ≈ 0.29412\n",
    "                                  \n",
    "                                  "
   ]
  },
  {
   "cell_type": "markdown",
   "metadata": {},
   "source": [
    "c) Use the toolbox to calculate the numerical value of this expression from the model you defined above."
   ]
  },
  {
   "cell_type": "code",
   "execution_count": 5,
   "metadata": {},
   "outputs": [
    {
     "name": "stderr",
     "output_type": "stream",
     "text": [
      "Finding Elimination Order: : 100%|█████████████████████████████████████████████████████| 1/1 [00:00<00:00, 1004.86it/s]\n",
      "Eliminating: B: 100%|███████████████████████████████████████████████████████████████████| 1/1 [00:00<00:00, 501.65it/s]\n"
     ]
    },
    {
     "name": "stdout",
     "output_type": "stream",
     "text": [
      "the probability that the fuel tank is empty (F = 0) given that the fuel guage reads empty (G = 0), which is P(F = 0|G = 0):\n",
      "+----------+----------+\n",
      "| F        |   phi(F) |\n",
      "+==========+==========+\n",
      "| F(Empty) |   0.2941 |\n",
      "+----------+----------+\n",
      "| F(Full)  |   0.7059 |\n",
      "+----------+----------+\n"
     ]
    }
   ],
   "source": [
    "f_dist_0 = infer_p1.query(['F'], evidence={'G':'Empty Read'})\n",
    "print('the probability that the fuel tank is empty (F = 0) given that the fuel guage reads empty (G = 0), which is P(F = 0|G = 0):')\n",
    "print(f_dist_0)"
   ]
  },
  {
   "cell_type": "markdown",
   "metadata": {},
   "source": [
    "d) Show how our beliefs about the state of the fuel tank change when \n",
    "1) we haven’t made any observations yet; \n",
    "2) we see that the fuel guage reads empty\n",
    "3) we test the battery and find that it is dead. \n",
    "For each case, write the probabilistic expression and derive the numerical value using the toolbox."
   ]
  },
  {
   "cell_type": "code",
   "execution_count": 6,
   "metadata": {},
   "outputs": [
    {
     "name": "stderr",
     "output_type": "stream",
     "text": [
      "Finding Elimination Order: : 100%|█████████████████████████████████████████████████████| 2/2 [00:00<00:00, 2003.01it/s]\n",
      "Eliminating: B: 100%|███████████████████████████████████████████████████████████████████| 2/2 [00:00<00:00, 501.47it/s]\n"
     ]
    },
    {
     "name": "stdout",
     "output_type": "stream",
     "text": [
      "1) we haven’t made any observations yet\n",
      "+----------+----------+\n",
      "| F        |   phi(F) |\n",
      "+==========+==========+\n",
      "| F(Empty) |   0.1000 |\n",
      "+----------+----------+\n",
      "| F(Full)  |   0.9000 |\n",
      "+----------+----------+\n"
     ]
    },
    {
     "name": "stderr",
     "output_type": "stream",
     "text": [
      "Finding Elimination Order: : 100%|██████████████████████████████████████████████████████| 1/1 [00:00<00:00, 332.54it/s]\n",
      "Eliminating: B: 100%|███████████████████████████████████████████████████████████████████| 1/1 [00:00<00:00, 501.05it/s]\n"
     ]
    },
    {
     "name": "stdout",
     "output_type": "stream",
     "text": [
      "2) we see that the fuel guage reads empty\n",
      "+----------+----------+\n",
      "| F        |   phi(F) |\n",
      "+==========+==========+\n",
      "| F(Empty) |   0.2941 |\n",
      "+----------+----------+\n",
      "| F(Full)  |   0.7059 |\n",
      "+----------+----------+\n"
     ]
    },
    {
     "name": "stderr",
     "output_type": "stream",
     "text": [
      "Finding Elimination Order: : : 0it [00:00, ?it/s]\n",
      "0it [00:00, ?it/s]\n"
     ]
    },
    {
     "name": "stdout",
     "output_type": "stream",
     "text": [
      "3) we see that the fuel guage reads empty, and we test the battery and find that it is dead\n",
      "+----------+----------+\n",
      "| F        |   phi(F) |\n",
      "+==========+==========+\n",
      "| F(Empty) |   0.1111 |\n",
      "+----------+----------+\n",
      "| F(Full)  |   0.8889 |\n",
      "+----------+----------+\n"
     ]
    }
   ],
   "source": [
    "# The first situation that we haven't made any observations yet\n",
    "f_dist_1 = infer_p1.query(['F'])\n",
    "print('1) we haven’t made any observations yet')\n",
    "print(f_dist_1)\n",
    "\n",
    "# The second situation that we see that fuel guage reads empty\n",
    "f_dist_2 = infer_p1.query(['F'], evidence={'G':'Empty Read'})\n",
    "print('2) we see that the fuel guage reads empty')\n",
    "print(f_dist_2)\n",
    "\n",
    "# The third situation that we see that battery is found dead\n",
    "f_dist_3 = infer_p1.query(['F'], evidence={'B':'Dead', 'G':'Empty Read'})\n",
    "print('3) we see that the fuel guage reads empty, and we test the battery and find that it is dead')\n",
    "print(f_dist_3)"
   ]
  },
  {
   "cell_type": "markdown",
   "metadata": {},
   "source": [
    "e) Explain why our belief (i.e. the probability) that the fuel tank is empty goes down when learn that the\n",
    "battery is dead."
   ]
  },
  {
   "cell_type": "markdown",
   "metadata": {},
   "source": [
    "Mathematically,\n",
    "###### P(F = 0|G = 0) = P(G = 0|F = 0) P(F = 0) / P(G = 0)\n",
    "###### P(F = 0|G = 0, B = 0) = P(G = 0|B = 0, F =0) P(F = 0) / (P(G = 0|B = 0, F) P(F) for all possible F value, which is 0 and 1) \n",
    "Where P(B = 0) is cancelled between numberator and denominator. Comparing these two expression, it is obvious that the second expression will be smaller than the first expression, given a set of fixed probabilities.\n",
    "\n",
    "Logically,\n",
    "\n",
    "G is common evidence of F and B. In this V structure, (F_|_B) and (F/B|G). Therefore, in this case with G given, F and B are not independent\n",
    "\n",
    "When G is observed, in this case the state of guage is empty read. If we observe the battery is dead, it will decrease the chance of the empty tank: because that the reading of guage is empty due to dead battery increases."
   ]
  },
  {
   "cell_type": "markdown",
   "metadata": {},
   "source": [
    "f) Explain what our belief about the fuel tank be if we had only observed the dead battery."
   ]
  },
  {
   "cell_type": "code",
   "execution_count": 7,
   "metadata": {},
   "outputs": [
    {
     "name": "stderr",
     "output_type": "stream",
     "text": [
      "Finding Elimination Order: : 100%|█████████████████████████████████████████████████████| 1/1 [00:00<00:00, 1002.22it/s]\n",
      "Eliminating: G: 100%|███████████████████████████████████████████████████████████████████| 1/1 [00:00<00:00, 501.47it/s]\n"
     ]
    },
    {
     "name": "stdout",
     "output_type": "stream",
     "text": [
      "Our belief about the fuel tank be if we had only observed the dead battery:\n",
      "+----------+----------+\n",
      "| F        |   phi(F) |\n",
      "+==========+==========+\n",
      "| F(Empty) |   0.1000 |\n",
      "+----------+----------+\n",
      "| F(Full)  |   0.9000 |\n",
      "+----------+----------+\n"
     ]
    }
   ],
   "source": [
    "f_dist_4 = infer_p1.query(['F'], evidence={'B':'Dead'})\n",
    "print('Our belief about the fuel tank be if we had only observed the dead battery:')\n",
    "print(f_dist_4)"
   ]
  },
  {
   "cell_type": "markdown",
   "metadata": {},
   "source": [
    "As discussed above, G is common evidence of F and B. In this V structure, (F_|_B) and (F/B|G). Therefore, in the previous case with G given, F and B are not independent. However, without G given, F and B are independent of each other: since G is not observed, any change in F will reflect in G instead of B in this case. Therefore, when we observed the battery is dead, the probability that the guage reading is empty increases; in the meanwhile, the state of fuel tank is not affected by the change.\n",
    "\n",
    "Verified by the calculated result of the toolbox, our belief about the fuel tank given the dead battery is exactly same as the chance of full/empty fuel tank, which is (0.9, 0.1). Therefore, in this scenerio, these two variables are independent of each other."
   ]
  },
  {
   "cell_type": "markdown",
   "metadata": {},
   "source": [
    "##### Exercise 2. Wet Grass (from Pearl/Barber)\n",
    "Now we will do an only slightly more complicated model that also illustrates the concept of “explaining away.”\n",
    "Tracey leaves her house one morning and sees that the grass is wet. She wonders: Was it due to an overnight\n",
    "rain? Or that last night she forgot to turn off her sprinkler?"
   ]
  },
  {
   "cell_type": "markdown",
   "metadata": {},
   "source": [
    "a) Show graphical model of the Bayes net that models this scenario. Use the following variables: R = it\n",
    "rained last night; S = the sprinkler was left on; and G = the grass is wet."
   ]
  },
  {
   "cell_type": "markdown",
   "metadata": {},
   "source": [
    "        Spinkler(S)             Rain(R)\n",
    "             \n",
    "             \\                   /\n",
    "              \n",
    "               \\               /\n",
    "             \n",
    "                 \\           /\n",
    "             \n",
    "                   \\       /\n",
    "               \n",
    "                     ↘   ↙\n",
    "            \n",
    "                  Wet Grass(G)"
   ]
  },
  {
   "cell_type": "markdown",
   "metadata": {},
   "source": [
    "b) Write out the probability tables for this model assuming that: there is a 20% chance of overnight rain;\n",
    "a 10% chance that she left the sprinkler on; rain always makes the grass wet and if it doesn’t rain, the\n",
    "grass isn’t wet, but the sprinkler fails 5% of the time."
   ]
  },
  {
   "cell_type": "markdown",
   "metadata": {},
   "source": [
    "    CPD of State of Spinkler\n",
    "    +------------+-----+\n",
    "    | S(Turn-off)| 0.9 |\n",
    "    +------------+-----+\n",
    "    | S(Turn-on) | 0.1 |\n",
    "    +------------+-----+\n",
    "\n",
    "    CPD of State of Rain\n",
    "    +------------+-----+\n",
    "    | R(Not Rain)| 0.8 |\n",
    "    +------------+-----+\n",
    "    | R(Rain)    | 0.2 |\n",
    "    +------------+-----+\n",
    "    \n",
    "    CPD of State of Grass\n",
    "    +---------------+--------------+-------------+------------+------------+\n",
    "    | S             | S(Turn-off)  | S(Turn-off) | S(Turn-on) | S(Turn-on) |\n",
    "    +---------------+--------------+-------------+------------+------------+\n",
    "    | R             | R(Not Rain)  |   R(Rain)   | R(Not Rain)|  R(Rain)   |\n",
    "    +---------------+--------------+-------------+------------+------------+\n",
    "    | G(Dry)        | 1            | 0           | 0.05       | 0          |\n",
    "    +---------------+--------------+-------------+------------+------------+\n",
    "    | G(Wet)        | 0            | 1           | 0.95       | 1          |\n",
    "    +---------------+--------------+-------------+------------+------------+"
   ]
  },
  {
   "cell_type": "markdown",
   "metadata": {},
   "source": [
    "c) Define this model using the toolbox."
   ]
  },
  {
   "cell_type": "code",
   "execution_count": 8,
   "metadata": {},
   "outputs": [
    {
     "data": {
      "text/plain": [
       "True"
      ]
     },
     "execution_count": 8,
     "metadata": {},
     "output_type": "execute_result"
    }
   ],
   "source": [
    "# Defining the model structure for problem 2\n",
    "model_p2 = BayesianModel([('S', 'G'), ('R', 'G')])\n",
    "\n",
    "# Defining CPD of state of spinkler S\n",
    "cpd_s = TabularCPD(variable='S', variable_card=2, values=[[0.9, 0.1]], state_names={'S':['Turn-off','Turn-on']})\n",
    "\n",
    "# Define CPD of state of rain R\n",
    "cpd_r = TabularCPD(variable='R', variable_card=2, values=[[0.8, 0.2]], state_names={'R':['Not Rain','Rain']})\n",
    "\n",
    "# Define CPD of state of grass G\n",
    "# +---------------+--------------+-------------+------------+------------+\n",
    "# | S             | S(Turn-off)  | S(Turn-off) | S(Turn-on) | S(Turn-on) |\n",
    "# +---------------+--------------+-------------+------------+------------+\n",
    "# | R             | R(Not Rain)  |   R(Rain)   | R(Not Rain)|  R(Rain)   |\n",
    "# +---------------+--------------+-------------+------------+------------+\n",
    "# | G(Dry)        | 1            | 0           | 0.05       | 0          |\n",
    "# +---------------+--------------+-------------+------------+------------+\n",
    "# | G(Wet)        | 0            | 1           | 0.95       | 1          |\n",
    "# +---------------+--------------+-------------+------------+------------+\n",
    "cpd_g = TabularCPD(variable='G', variable_card=2, \n",
    "                   values=[[1, 0, 0.05, 0],\n",
    "                           [0, 1, 0.95, 1]],\n",
    "                  evidence=['S', 'R'],\n",
    "                  evidence_card=[2, 2],\n",
    "                  state_names={'G':['Dry', 'Wet'],\n",
    "                               'S':['Turn-off','Turn-on'],\n",
    "                               'R':['Not Rain','Rain']})\n",
    "\n",
    "\n",
    "# Associating the CPDs with the network\n",
    "model_p2.add_cpds(cpd_s, cpd_r, cpd_g)\n",
    "\n",
    "# check_model checks for the network structure and CPDs and verifies that the CPDs are correctly \n",
    "# defined and sum to 1.\n",
    "model_p2.check_model()"
   ]
  },
  {
   "cell_type": "code",
   "execution_count": 9,
   "metadata": {},
   "outputs": [
    {
     "name": "stdout",
     "output_type": "stream",
     "text": [
      "CPD of state of spinkler S\n",
      "+-------------+-----+\n",
      "| S(Turn-off) | 0.9 |\n",
      "+-------------+-----+\n",
      "| S(Turn-on)  | 0.1 |\n",
      "+-------------+-----+\n",
      "CPD of state of rain R\n",
      "+-------------+-----+\n",
      "| R(Not Rain) | 0.8 |\n",
      "+-------------+-----+\n",
      "| R(Rain)     | 0.2 |\n",
      "+-------------+-----+\n",
      "CPD of state of grass G\n",
      "+--------+-------------+-------------+-------------+------------+\n",
      "| S      | S(Turn-off) | S(Turn-off) | S(Turn-on)  | S(Turn-on) |\n",
      "+--------+-------------+-------------+-------------+------------+\n",
      "| R      | R(Not Rain) | R(Rain)     | R(Not Rain) | R(Rain)    |\n",
      "+--------+-------------+-------------+-------------+------------+\n",
      "| G(Dry) | 1.0         | 0.0         | 0.05        | 0.0        |\n",
      "+--------+-------------+-------------+-------------+------------+\n",
      "| G(Wet) | 0.0         | 1.0         | 0.95        | 1.0        |\n",
      "+--------+-------------+-------------+-------------+------------+\n"
     ]
    }
   ],
   "source": [
    "print('CPD of state of spinkler S')\n",
    "print(model_p2.get_cpds('S'))\n",
    "print('CPD of state of rain R')\n",
    "print(model_p2.get_cpds('R'))\n",
    "print('CPD of state of grass G')\n",
    "print(model_p2.get_cpds('G'))"
   ]
  },
  {
   "cell_type": "markdown",
   "metadata": {},
   "source": [
    "d) Calculate the probabilities for Tracey’s original queries using the toolbox (you do not have to provide the\n",
    "mathematical derivation)."
   ]
  },
  {
   "cell_type": "code",
   "execution_count": 10,
   "metadata": {},
   "outputs": [
    {
     "name": "stderr",
     "output_type": "stream",
     "text": [
      "Finding Elimination Order: : 100%|██████████████████████████████████████████████████████| 1/1 [00:00<00:00, 501.35it/s]\n",
      "Eliminating: S: 100%|██████████████████████████████████████████████████████████████████| 1/1 [00:00<00:00, 1002.22it/s]\n"
     ]
    },
    {
     "name": "stdout",
     "output_type": "stream",
     "text": [
      "Was it due to an overnight rain?\n",
      "+-------------+----------+\n",
      "| R           |   phi(R) |\n",
      "+=============+==========+\n",
      "| R(Not Rain) |   0.2754 |\n",
      "+-------------+----------+\n",
      "| R(Rain)     |   0.7246 |\n",
      "+-------------+----------+\n"
     ]
    },
    {
     "name": "stderr",
     "output_type": "stream",
     "text": [
      "Finding Elimination Order: : 100%|█████████████████████████████████████████████████████| 1/1 [00:00<00:00, 1003.18it/s]\n",
      "Eliminating: R: 100%|██████████████████████████████████████████████████████████████████| 1/1 [00:00<00:00, 1002.46it/s]\n"
     ]
    },
    {
     "name": "stdout",
     "output_type": "stream",
     "text": [
      "Or that last night she forgot to turn off her sprinkler?\n",
      "+-------------+----------+\n",
      "| S           |   phi(S) |\n",
      "+=============+==========+\n",
      "| S(Turn-off) |   0.6522 |\n",
      "+-------------+----------+\n",
      "| S(Turn-on)  |   0.3478 |\n",
      "+-------------+----------+\n"
     ]
    }
   ],
   "source": [
    "infer_p2 = VariableElimination(model_p2)\n",
    "\n",
    "# Was it due to an overnight rain?\n",
    "r_dist_1 = infer_p2.query(['R'], evidence={'G':'Wet'})\n",
    "print('Was it due to an overnight rain?')\n",
    "print(r_dist_1)\n",
    "\n",
    "# Or that last night she forgot to turn off her sprinkler?\n",
    "s_dist_1 = infer_p2.query(['S'], evidence={'G':'Wet'})\n",
    "print('Or that last night she forgot to turn off her sprinkler?')\n",
    "print(s_dist_1)"
   ]
  },
  {
   "cell_type": "markdown",
   "metadata": {},
   "source": [
    "e) Now suppose that Tracey observes her neighbor, Jack, also has wet grass. Augment your model to\n",
    "incorporate this new information. Use the variable J to represent the state of Jack’s grass. Assume that\n",
    "the rain always makes Jack’s grass wet, but if it didn’t rain, his grass has a 15% chance of being wet\n",
    "for some other reason. Write the graph for the Bayes net model, the probability tables, and the updated\n",
    "code using the toolbox."
   ]
  },
  {
   "cell_type": "markdown",
   "metadata": {},
   "source": [
    "     Tracey's Spinkler(S)        Rain(R)                            \n",
    "             \n",
    "             \\                   /     \\                    \n",
    "              \n",
    "               \\               /         \\                \n",
    "             \n",
    "                 \\           /             \\            \n",
    "             \n",
    "                   \\       /                 \\        \n",
    "                \n",
    "                     ↘   ↙                     ↘    \n",
    "            \n",
    "               Tracey's Wet Grass(G)       Jack's Wet Grass (J)\n",
    "               \n",
    "    CPD of State of Tracey's Spinkler(S)\n",
    "    +------------+-----+\n",
    "    | S(Turn-off)| 0.9 |\n",
    "    +------------+-----+\n",
    "    | S(Turn-on) | 0.1 |\n",
    "    +------------+-----+\n",
    "\n",
    "    CPD of State of Rain(R)\n",
    "    +------------+-----+\n",
    "    | R(Not Rain)| 0.8 |\n",
    "    +------------+-----+\n",
    "    | R(Rain)    | 0.2 |\n",
    "    +------------+-----+\n",
    "    \n",
    "    CPD of State of Tracey's Gras(G)\n",
    "    +---------------+--------------+-------------+------------+------------+\n",
    "    | S             | S(Turn-off)  | S(Turn-off) | S(Turn-on) | S(Turn-on) |\n",
    "    +---------------+--------------+-------------+------------+------------+\n",
    "    | R             | R(Not Rain)  |   R(Rain)   | R(Not Rain)|  R(Rain)   |\n",
    "    +---------------+--------------+-------------+------------+------------+\n",
    "    | G(Dry)        | 1            | 0           | 0.05       | 0          |\n",
    "    +---------------+--------------+-------------+------------+------------+\n",
    "    | G(Wet)        | 0            | 1           | 0.95       | 1          |\n",
    "    +---------------+--------------+-------------+------------+------------+\n",
    "    \n",
    "    CPD of State of Jack's Grass (J)\n",
    "    +---------------+--------------+-------------+\n",
    "    | R             | R(Not Rain)  |   R(Rain)   |\n",
    "    +---------------+--------------+-------------+\n",
    "    | J(Dry)        | 0.85         | 0           |\n",
    "    +---------------+--------------+-------------+\n",
    "    | J(Wet)        | 0.15         | 1           |\n",
    "    +---------------+--------------+-------------+ "
   ]
  },
  {
   "cell_type": "code",
   "execution_count": 11,
   "metadata": {},
   "outputs": [
    {
     "data": {
      "text/plain": [
       "True"
      ]
     },
     "execution_count": 11,
     "metadata": {},
     "output_type": "execute_result"
    }
   ],
   "source": [
    "# Defining the model structure for problem 2e\n",
    "model_p2_updated = BayesianModel([('S', 'G'), ('R', 'G'), ('R', 'J')])\n",
    "\n",
    "# Defining CPD of state of Tracey's spinkler S\n",
    "cpd_s = TabularCPD(variable='S', variable_card=2, values=[[0.9, 0.1]], state_names={'S':['Turn-off','Turn-on']})\n",
    "\n",
    "# Define CPD of state of rain R\n",
    "cpd_r = TabularCPD(variable='R', variable_card=2, values=[[0.8, 0.2]], state_names={'R':['Not Rain','Rain']})\n",
    "\n",
    "# Define CPD of state of Tracey's grass G\n",
    "# +---------------+--------------+-------------+------------+------------+\n",
    "# | S             | S(Turn-off)  | S(Turn-off) | S(Turn-on) | S(Turn-on) |\n",
    "# +---------------+--------------+-------------+------------+------------+\n",
    "# | R             | R(Not Rain)  |   R(Rain)   | R(Not Rain)|  R(Rain)   |\n",
    "# +---------------+--------------+-------------+------------+------------+\n",
    "# | G(Dry)        | 1            | 0           | 0.05       | 0          |\n",
    "# +---------------+--------------+-------------+------------+------------+\n",
    "# | G(Wet)        | 0            | 1           | 0.95       | 1          |\n",
    "# +---------------+--------------+-------------+------------+------------+\n",
    "cpd_g = TabularCPD(variable='G', variable_card=2, \n",
    "                   values=[[1, 0, 0.05, 0],\n",
    "                           [0, 1, 0.95, 1]],\n",
    "                  evidence=['S', 'R'],\n",
    "                  evidence_card=[2, 2],\n",
    "                  state_names={'G':['Dry', 'Wet'],\n",
    "                               'S':['Turn-off','Turn-on'],\n",
    "                               'R':['Not Rain','Rain']})\n",
    "\n",
    "# Define CPD of state of Jack's grass \n",
    "# +---------------+--------------+-------------+\n",
    "# | R             | R(Not Rain)  |   R(Rain)   |\n",
    "# +---------------+--------------+-------------+\n",
    "# | J(Dry)        | 0.85         | 0           |\n",
    "# +---------------+--------------+-------------+\n",
    "# | J(Wet)        | 0.15         | 1           |\n",
    "# +---------------+--------------+-------------+ \n",
    "cpd_j = TabularCPD(variable='J', variable_card=2, \n",
    "                   values=[[0.85, 0],\n",
    "                           [0.15, 1]],\n",
    "                  evidence=['R'],\n",
    "                  evidence_card=[2],\n",
    "                  state_names={'J':['Dry', 'Wet'],\n",
    "                               'R':['Not Rain','Rain']})\n",
    "\n",
    "\n",
    "# Associating the CPDs with the network\n",
    "model_p2_updated.add_cpds(cpd_s, cpd_r, cpd_g, cpd_j)\n",
    "\n",
    "# check_model checks for the network structure and CPDs and verifies that the CPDs are correctly \n",
    "# defined and sum to 1.\n",
    "model_p2_updated.check_model()"
   ]
  },
  {
   "cell_type": "markdown",
   "metadata": {},
   "source": [
    "f) Derive the probabilistic expression and numeric value for the probability that the sprinkler was left on\n",
    "given that Tracey sees that both her grass and Jack’s are wet."
   ]
  },
  {
   "cell_type": "markdown",
   "metadata": {},
   "source": [
    "To find the probability that the  sprinkler was left (S = 1) given that Tracey sees that both her grass and Jack’s are wet (G = 1, J = 1).\n",
    "###### P(S = 1|G = 1, J = 1) = P(G = 1, J = 1|S = 1) P(S = 1) / P(G = 1, J = 1) \n",
    "\n",
    "R is common cause of J and G, and therefore when R is observed an change in G or J, it doesn't affect J or G since it's only dependent on R: hence, A_|_C|B. However, the influence flows from A to C when B is not observed, therefore in this case, A and C is not independent of each other.\n",
    "\n",
    "To calculate P(G = 1, J = 1|S = 1)\n",
    "                      = P(G = 1, J = 1|S = 1, R) for all possible R value (which is 0 and 1)\n",
    "                      = P(G = 1, J = 1|S = 1, R = 1) P(R = 1) + P(G = 1, J = 1|S = 1, R = 0) P(R = 0)\n",
    "                      = 1 x 0.2 + 0.95 x 0.15 x 0.8\n",
    "                      = 0.314\n",
    "\n",
    "To calculate P(G = 1, J = 1) \n",
    "           = P(G = 1, J = 1|S, R) for all possible S, R value (which is 0 and 1)\n",
    "           = P(G = 1, J = 1|S = 0, R = 0) P(R = 0) P(S = 0) + P(G = 1, J = 1|S = 1, R = 0) P(R = 0) P(S = 1) + \n",
    "             P(G = 1, J = 1|S = 0, R = 1) P(R = 1) P(S = 0) + P(G = 1, J = 1|S = 1, R = 1) P(R = 1) P(S = 1)\n",
    "           = 0 x 0.8 x 0.9 + 0.15 x 0.95 x 0.8 x 0.1 + 1 x 0.2 x 0.9 + 1 x 0.2 x 0.1\n",
    "           = 0.2114\n",
    "\n",
    "Therefore, we can get P(S = 1|G = 1, J = 1) = P(G = 1, J = 1|S = 1) P(S = 1) / P(G = 1, J = 1) \n",
    "                                            = 0.314 x 0.1 / 0.2114\n",
    "                                            ≈ 0.14853\n",
    "                                            \n",
    "The probabilistic expression and numeric value is verified by the program below."
   ]
  },
  {
   "cell_type": "code",
   "execution_count": 12,
   "metadata": {},
   "outputs": [
    {
     "name": "stderr",
     "output_type": "stream",
     "text": [
      "Finding Elimination Order: : 100%|█████████████████████████████████████████████████████| 1/1 [00:00<00:00, 1002.94it/s]\n",
      "Eliminating: R: 100%|███████████████████████████████████████████████████████████████████| 1/1 [00:00<00:00, 501.23it/s]\n"
     ]
    },
    {
     "name": "stdout",
     "output_type": "stream",
     "text": [
      "The probability that the sprinkler was left on given that Tracey sees that both her grass and Jack’s are wet:\n",
      "+-------------+----------+\n",
      "| S           |   phi(S) |\n",
      "+=============+==========+\n",
      "| S(Turn-off) |   0.8515 |\n",
      "+-------------+----------+\n",
      "| S(Turn-on)  |   0.1485 |\n",
      "+-------------+----------+\n"
     ]
    }
   ],
   "source": [
    "# The probability that the sprinkler was left on given that Tracey sees that both her grass and Jack’s are wet\n",
    "infer_p2_updated = VariableElimination(model_p2_updated)\n",
    "\n",
    "# Was it due to an overnight rain?\n",
    "s_dist_2 = infer_p2_updated.query(['S'], evidence={'G':'Wet', 'J':'Wet'})\n",
    "print('The probability that the sprinkler was left on given that Tracey sees that both her grass and Jack’s are wet:')\n",
    "print(s_dist_2)"
   ]
  },
  {
   "cell_type": "markdown",
   "metadata": {},
   "source": [
    "g) Explain why this new observation lowers the Tracey’s belief she left the sprinkler on."
   ]
  },
  {
   "cell_type": "markdown",
   "metadata": {},
   "source": [
    "Mathematically,\n",
    "###### P(S = 1|G = 1) = P(G = 1|S = 1) P(S = 1) / P(G = 1)\n",
    "###### P(S = 1|G = 1, J = 1) = P(G = 1, J = 1|S = 1) P(S = 1) / P(G = 1, J = 1)\n",
    "Comparing these two expression, it is obvious that the second expression will be smaller than the first expression, given a set of fixed probabilities.\n",
    "\n",
    "Logically,\n",
    "\n",
    "R is common cause of G and J. The influence flows from J to G when R is not observed, while J/G is only dependent on R when R observed. We get G/J and G_|_J|R. In this case, we don't know if it rained last night, and we only know both G and J are 1. Both of these observations affect Tracey's judgment on R. Since both Tracey' and Jack's grasses are wet, it is less likely caused by two different reasons, if not raining. Therefore, our belief of rain increases.\n",
    "\n",
    "G is the common evidence of S and R. If G is not observed, the increase of raining probability increases the probability of wet grass, but leaves the probability of turned-on sprinkle. However, since in this case we already know that G = 1, the state of R will affect the belief of S. Since we prove above that the belief of rain increases, it is less likely to believe that Tracey left her sprinkle on overnight. Therefore, our belief of spinkle on decreases."
   ]
  },
  {
   "cell_type": "markdown",
   "metadata": {},
   "source": [
    "##### Exercise 3. (Extra credit) Design your own Bayesian network.\n",
    "Implement a belief network of your own choosing or design. It should use discrete variables (which could\n",
    "be binary) and be more complex that the examples above. Use the model to illustrate deductive inference\n",
    "problems."
   ]
  },
  {
   "cell_type": "markdown",
   "metadata": {},
   "source": [
    "The grading is necessarily subjective, but here is a rubric:\n",
    "\n",
    "• Was the scenario you are trying to model clearly described? \n",
    "\n",
    "• Were the variables and states well-chosen and clearly explained? \n",
    "\n",
    "• How well did the examples to illustrate the model? \n",
    "\n",
    "• Did the model go beyond or is distinct from what was already convered in the questions above? For example: larger numbers of nodes with more complex interactions; more variable states; or using simplifying assumptions for conditional probabilities like noisy-OR."
   ]
  },
  {
   "cell_type": "markdown",
   "metadata": {},
   "source": [
    "The scenerio is about fire alarm in my apartment. \n",
    "\n",
    "The state of Drill D (Fire Drill) represents whether there is a fire drill holden in my apartment.\n",
    "\n",
    "The state of Fire F represents whether there is an actual fire happened in my apartment. \n",
    "\n",
    "The state of Fire Alarm A represent whether the fire alarm goes off in my apartment. Its cause could be fire drill D and Actual fire F.\n",
    "\n",
    "The state of Notice N represent whether a notice is posted about the upcoming fire drill in my apartment. Its cause could only be Fire Drill D.\n",
    "\n",
    "The state of Smoke M represent whether you can smell smoke in my apartment. Its cause could only be Actual Fire.\n",
    "\n",
    "The state of Evacuation E represent whether I decide to leave the building. Its cause could be Notice N, Smoke M, and Fire Alarm A.\n",
    "\n",
    "###### Graph for Bayesian Network\n",
    "         Actual Fire (F)        Fire Drill (D)                            \n",
    "             \n",
    "           /    \\                   /     \\                    \n",
    "              \n",
    "         /       \\                /         \\                \n",
    "             \n",
    "        /          \\            /             \\            \n",
    "            \n",
    "      /              \\        /                 \\        \n",
    "                \n",
    "    ↙                  ↘   ↙                     ↘    \n",
    "            \n",
    "    Smoke (S)        Fire Alarm (A)         Notice (N)\n",
    "    \\                     |                       /\n",
    "    \n",
    "         \\                |                   /\n",
    "         \n",
    "             \\            |               /\n",
    "           \n",
    "                \\         |           /  \n",
    "                \n",
    "                   ↘      ↓      ↙\n",
    "                     Evacuation (E)\n",
    "\n",
    "###### CPDs of each variable\n",
    "    CPD of State of Fire Drill (D)\n",
    "    +------------------+-------+\n",
    "    | D(Happened)      | 0.001 |\n",
    "    +------------------+-------+\n",
    "    | D(Not Happened)  | 0.999 |\n",
    "    +------------------+-------+\n",
    "    There is a small chance that my apartment holds a fire drill.\n",
    "\n",
    "    CPD of State of Actual (F)\n",
    "    +------------------+--------+\n",
    "    | F(Happened)      | 0.0002 |\n",
    "    +------------------+--------+\n",
    "    | F(Not Happened)  | 0.9998 |\n",
    "    +------------------+--------+\n",
    "    There is an even smaller chance that my apartment has an actual fire.\n",
    "    \n",
    "    CPD of State of Notice(N)\n",
    "    +---------------+--------------+---------------------+\n",
    "    | D             | D(Happened)  |   D(Not Happened)   |\n",
    "    +---------------+--------------+---------------------+\n",
    "    | N(Posted)     | 0.98         | 0                   |\n",
    "    +---------------+--------------+---------------------+\n",
    "    | N(Not Posted) | 0.02         | 1                   |\n",
    "    +---------------+--------------+---------------------+ \n",
    "    The concierges are good, so if there is no fire drill, there will not be notice of fire drill posted.\n",
    "    However, sometimes people destroyes the notice for fun, so if there is going to be a fire drill, there is 2% of chance that     the notice will be destroyed by these villains.\n",
    "    \n",
    "    CPD of State of Smoke (S)\n",
    "    +---------------+--------------+---------------------+\n",
    "    | F             | F(Happened)  |   F(Not Happened)   |\n",
    "    +---------------+--------------+---------------------+\n",
    "    | S(Smelled)    | 0.8          | 0.05                |\n",
    "    +---------------+--------------+---------------------+\n",
    "    | S(Not Smelled)| 0.2          | 0.95                |\n",
    "    +---------------+--------------+---------------------+ \n",
    "    Since I live in the south side of my apartment, if a fire actually goes on in north side, I might not smell the smoke.\n",
    "    However, since my neighbor is a terrible cook, if there is no actual fire happened, I still sometimes smell the smoke!\n",
    "    \n",
    "    CPD of State of Fire Alarm (A)\n",
    "    +---------------+------------------+-----------------+----------------+-------------+\n",
    "    | D             | D(Not Happened)  | D(Not Happened) | D(Happened)    | D(Happened) |\n",
    "    +---------------+------------------+-----------------+----------------+-------------+\n",
    "    | F             | F(Not Happened)  | F(Happened)     | F(Not Happened)| F(Happened) |\n",
    "    +---------------+------------------+-----------------+----------------+-------------+\n",
    "    | A(Not Almared)| 1                | 0.05            | 0.1            | 0.01        |\n",
    "    +---------------+------------------+-----------------+----------------+-------------+\n",
    "    | G(Alarmed)    | 0                | 0.95            | 0.9            | 0.99        |\n",
    "    +---------------+------------------+-----------------+----------------+-------------+\n",
    "    If there is no drill or fire, the alarm will be not alarmed since they are well-protected.\n",
    "    However, for the same reason, they might not alarm during an actual fire or a fire drill or even both of them for a small       chance.\n",
    "    \n",
    "    CPD of State of Evacuation (E)\n",
    "    +---------------+------------------+-----------------+----------------+-----------------+\n",
    "    | N             | N(Not Posted)    | N(Not Posted)   | N(Not Posted)  | N(Not Posted)   |\n",
    "    +---------------+------------------+-----------------+----------------+-----------------+\n",
    "    | A             | A(Not Alarmed)   | A(Not Alarmed)  | A(Alarmed)     | A(Alarmed)      |\n",
    "    +---------------+------------------+-----------------+----------------+-----------------+\n",
    "    | S             | S(Not Smelled)   | S(Smelled)      | S(Not Smelled) | S(Smelled)      |\n",
    "    +---------------+------------------+-----------------+----------------+-----------------+\n",
    "    | E(Not Leave)  | 1                | 0.02            | 0.1            | 0               |\n",
    "    +---------------+------------------+-----------------+----------------+-----------------+\n",
    "    | E(Leave)      | 0                | 0.98            | 0.9            | 1               |\n",
    "    +---------------+------------------+-----------------+----------------+-----------------+\n",
    "    \n",
    "    +---------------+------------------+-----------------+----------------+-----------------+\n",
    "    | N             | N(Posted)        | N(Posted)       | N(Posted)      | N(Posted)       |\n",
    "    +---------------+------------------+-----------------+----------------+-----------------+\n",
    "    | A             | A(Not Alarmed)   | A(Not Alarmed)  | A(Alarmed)     | A(Alarmed)      |\n",
    "    +---------------+------------------+-----------------+----------------+-----------------+\n",
    "    | S             | S(Not Smelled)   | S(Smelled)      | S(Not Smelled) | S(Smelled)      |\n",
    "    +---------------+------------------+-----------------+----------------+-----------------+\n",
    "    | E(Not Leave)  | 1                | 0.01            | 0.4            | 0.5             |\n",
    "    +---------------+------------------+-----------------+----------------+-----------------+\n",
    "    | E(Leave)      | 0                | 0.99            | 0.6            | 0.5             |\n",
    "    +---------------+------------------+-----------------+----------------+-----------------+\n",
    "    Generally, I will be more reluctant if I saw a notice about the fire drill since I know it is most likely a fire drill. If     I smell smoke I will be more cautious and carefully thinking about whether to leave. If I hear the fire alarm, I will much     more likely to leave."
   ]
  },
  {
   "cell_type": "code",
   "execution_count": 13,
   "metadata": {},
   "outputs": [
    {
     "data": {
      "text/plain": [
       "True"
      ]
     },
     "execution_count": 13,
     "metadata": {},
     "output_type": "execute_result"
    }
   ],
   "source": [
    "# Defining the model structure for problem 2\n",
    "model_p3 = BayesianModel([('D', 'N'), ('D', 'A'), ('F', 'A'),  ('F', 'S'),  ('N', 'E'),  ('A', 'E'),  ('S', 'E')])\n",
    "\n",
    "# Defining CPD of state of fire drill D\n",
    "cpd_d = TabularCPD(variable='D', variable_card=2, values=[[0.999, 0.001]], state_names={'D':['Not Happened','Happened']})\n",
    "\n",
    "# Define CPD of state of actual fire F\n",
    "cpd_f = TabularCPD(variable='F', variable_card=2, values=[[0.9998, 0.0002]], state_names={'F':['Not Happened','Happened']})\n",
    "\n",
    "# Define CPD of state of notice N\n",
    "cpd_n = TabularCPD(variable='N', variable_card=2, \n",
    "                   values=[[1, 0.02],\n",
    "                           [0, 0.98]],\n",
    "                  evidence=['D'],\n",
    "                  evidence_card=[2],\n",
    "                  state_names={'N':['Not Posted', 'Posted'],\n",
    "                               'D':['Not Happened','Happened']})\n",
    "\n",
    "# Define CPD of state of fire alarm A\n",
    "cpd_a = TabularCPD(variable='A', variable_card=2, \n",
    "                   values=[[1, 0.05, 0.1, 0.01],\n",
    "                           [0, 0.95, 0.9, 0.99]],\n",
    "                  evidence=['D', 'F'],\n",
    "                  evidence_card=[2, 2],\n",
    "                  state_names={'A':['Not Alarmed', 'Alarmed'],\n",
    "                               'D':['Not Happened','Happened'],\n",
    "                               'F':['Not Happened','Happened']})\n",
    "\n",
    "# Define CPD of state of smoke S\n",
    "cpd_s = TabularCPD(variable='S', variable_card=2, \n",
    "                   values=[[0.95, 0.2],\n",
    "                           [0.05, 0.8]],\n",
    "                  evidence=['F'],\n",
    "                  evidence_card=[2],\n",
    "                  state_names={'S':['Not Smelled', 'Smelled'],\n",
    "                               'F':['Not Happened','Happened']})\n",
    "\n",
    "# Define CPD of state of evacuation E\n",
    "cpd_e = TabularCPD(variable='E', variable_card=2, \n",
    "                   values=[[1, 0.98, 0.1, 0, 1, 0.01, 0.4, 0.5],\n",
    "                           [0, 0.02, 0.9, 1, 0, 0.99, 0.6, 0.5]],\n",
    "                  evidence=['N', 'A', 'S'],\n",
    "                  evidence_card=[2, 2, 2],\n",
    "                  state_names={'E':['Not Leave', 'Leave'],\n",
    "                               'N':['Not Posted', 'Posted'],\n",
    "                               'A':['Not Alarmed', 'Alarmed'],\n",
    "                               'S':['Not Smelled', 'Smelled']})\n",
    "\n",
    "# Associating the CPDs with the network\n",
    "model_p3.add_cpds(cpd_d, cpd_f, cpd_n, cpd_a, cpd_s, cpd_e)\n",
    "\n",
    "# check_model checks for the network structure and CPDs and verifies that the CPDs are correctly \n",
    "# defined and sum to 1.\n",
    "model_p3.check_model()"
   ]
  },
  {
   "cell_type": "code",
   "execution_count": 14,
   "metadata": {},
   "outputs": [
    {
     "name": "stdout",
     "output_type": "stream",
     "text": [
      "CPD of state of fire drill D\n",
      "+-----------------+-------+\n",
      "| D(Not Happened) | 0.999 |\n",
      "+-----------------+-------+\n",
      "| D(Happened)     | 0.001 |\n",
      "+-----------------+-------+\n",
      "CPD of state of actual fire F\n",
      "+-----------------+--------+\n",
      "| F(Not Happened) | 0.9998 |\n",
      "+-----------------+--------+\n",
      "| F(Happened)     | 0.0002 |\n",
      "+-----------------+--------+\n",
      "CPD of state of notice N\n",
      "+---------------+-----------------+-------------+\n",
      "| D             | D(Not Happened) | D(Happened) |\n",
      "+---------------+-----------------+-------------+\n",
      "| N(Not Posted) | 1.0             | 0.02        |\n",
      "+---------------+-----------------+-------------+\n",
      "| N(Posted)     | 0.0             | 0.98        |\n",
      "+---------------+-----------------+-------------+\n",
      "CPD of state of fire alarm A\n",
      "+----------------+-----------------+-----------------+-----------------+-------------+\n",
      "| D              | D(Not Happened) | D(Not Happened) | D(Happened)     | D(Happened) |\n",
      "+----------------+-----------------+-----------------+-----------------+-------------+\n",
      "| F              | F(Not Happened) | F(Happened)     | F(Not Happened) | F(Happened) |\n",
      "+----------------+-----------------+-----------------+-----------------+-------------+\n",
      "| A(Not Alarmed) | 1.0             | 0.05            | 0.1             | 0.01        |\n",
      "+----------------+-----------------+-----------------+-----------------+-------------+\n",
      "| A(Alarmed)     | 0.0             | 0.95            | 0.9             | 0.99        |\n",
      "+----------------+-----------------+-----------------+-----------------+-------------+\n",
      "CPD of state of smoke S\n",
      "+----------------+-----------------+-------------+\n",
      "| F              | F(Not Happened) | F(Happened) |\n",
      "+----------------+-----------------+-------------+\n",
      "| S(Not Smelled) | 0.95            | 0.2         |\n",
      "+----------------+-----------------+-------------+\n",
      "| S(Smelled)     | 0.05            | 0.8         |\n",
      "+----------------+-----------------+-------------+\n",
      "CPD of state of evacuation E\n",
      "+--------------+----------------+----------------+----------------+---------------+----------------+----------------+----------------+------------+\n",
      "| N            | N(Not Posted)  | N(Not Posted)  | N(Not Posted)  | N(Not Posted) | N(Posted)      | N(Posted)      | N(Posted)      | N(Posted)  |\n",
      "+--------------+----------------+----------------+----------------+---------------+----------------+----------------+----------------+------------+\n",
      "| A            | A(Not Alarmed) | A(Not Alarmed) | A(Alarmed)     | A(Alarmed)    | A(Not Alarmed) | A(Not Alarmed) | A(Alarmed)     | A(Alarmed) |\n",
      "+--------------+----------------+----------------+----------------+---------------+----------------+----------------+----------------+------------+\n",
      "| S            | S(Not Smelled) | S(Smelled)     | S(Not Smelled) | S(Smelled)    | S(Not Smelled) | S(Smelled)     | S(Not Smelled) | S(Smelled) |\n",
      "+--------------+----------------+----------------+----------------+---------------+----------------+----------------+----------------+------------+\n",
      "| E(Not Leave) | 1.0            | 0.98           | 0.1            | 0.0           | 1.0            | 0.01           | 0.4            | 0.5        |\n",
      "+--------------+----------------+----------------+----------------+---------------+----------------+----------------+----------------+------------+\n",
      "| E(Leave)     | 0.0            | 0.02           | 0.9            | 1.0           | 0.0            | 0.99           | 0.6            | 0.5        |\n",
      "+--------------+----------------+----------------+----------------+---------------+----------------+----------------+----------------+------------+\n"
     ]
    }
   ],
   "source": [
    "print('CPD of state of fire drill D')\n",
    "print(model_p3.get_cpds('D'))\n",
    "print('CPD of state of actual fire F')\n",
    "print(model_p3.get_cpds('F'))\n",
    "print('CPD of state of notice N')\n",
    "print(model_p3.get_cpds('N'))\n",
    "print('CPD of state of fire alarm A')\n",
    "print(model_p3.get_cpds('A'))\n",
    "print('CPD of state of smoke S')\n",
    "print(model_p3.get_cpds('S'))\n",
    "print('CPD of state of evacuation E')\n",
    "print(model_p3.get_cpds('E'))"
   ]
  },
  {
   "cell_type": "markdown",
   "metadata": {},
   "source": [
    "I am really interested in the following questions:\n",
    "1) If no observation is made, what's the chance that I will leave my apartment for evacuation?\n",
    "2) If I hear an alarm, what's the chance that I will leave my apartment for evacuation?\n",
    "3) If I smell smoke, what's the chance that I will leave my apartment for evacuation?\n",
    "4) If I head an alarm and saw a notice about it before, what's the chance that I will leave my apartment for evacuation?"
   ]
  },
  {
   "cell_type": "code",
   "execution_count": 15,
   "metadata": {},
   "outputs": [],
   "source": [
    "infer_p3 = VariableElimination(model_p3)"
   ]
  },
  {
   "cell_type": "code",
   "execution_count": 16,
   "metadata": {},
   "outputs": [
    {
     "name": "stdout",
     "output_type": "stream",
     "text": [
      "1) If no observation is made, what's the chance that I will leave my apartment for evacuation?\n"
     ]
    },
    {
     "name": "stderr",
     "output_type": "stream",
     "text": [
      "Finding Elimination Order: : 100%|█████████████████████████████████████████████████████| 5/5 [00:00<00:00, 5015.91it/s]\n",
      "Eliminating: D: 100%|███████████████████████████████████████████████████████████████████| 5/5 [00:00<00:00, 501.34it/s]\n"
     ]
    },
    {
     "name": "stdout",
     "output_type": "stream",
     "text": [
      "+--------------+----------+\n",
      "| E            |   phi(E) |\n",
      "+==============+==========+\n",
      "| E(Not Leave) |   0.9983 |\n",
      "+--------------+----------+\n",
      "| E(Leave)     |   0.0017 |\n",
      "+--------------+----------+\n"
     ]
    }
   ],
   "source": [
    "# 1) If no observation is made, what's the chance that I will leave my apartment for evacuation?\n",
    "print(\"1) If no observation is made, what's the chance that I will leave my apartment for evacuation?\")\n",
    "print(infer_p3.query(['E']))"
   ]
  },
  {
   "cell_type": "code",
   "execution_count": 17,
   "metadata": {},
   "outputs": [
    {
     "name": "stdout",
     "output_type": "stream",
     "text": [
      "2) If I hear an alarm, what's the chance that I will leave my apartment for evacuation?\n"
     ]
    },
    {
     "name": "stderr",
     "output_type": "stream",
     "text": [
      "Finding Elimination Order: : 100%|█████████████████████████████████████████████████████| 4/4 [00:00<00:00, 4011.77it/s]\n",
      "Eliminating: D: 100%|███████████████████████████████████████████████████████████████████| 4/4 [00:00<00:00, 668.47it/s]\n"
     ]
    },
    {
     "name": "stdout",
     "output_type": "stream",
     "text": [
      "+--------------+----------+\n",
      "| E            |   phi(E) |\n",
      "+==============+==========+\n",
      "| E(Not Leave) |   0.3328 |\n",
      "+--------------+----------+\n",
      "| E(Leave)     |   0.6672 |\n",
      "+--------------+----------+\n"
     ]
    }
   ],
   "source": [
    "# 2) If I hear an alarm, what's the chance that I will leave my apartment for evacuation?\n",
    "print(\"2) If I hear an alarm, what's the chance that I will leave my apartment for evacuation?\")\n",
    "print(infer_p3.query(['E'], evidence={'A':'Alarmed'}))"
   ]
  },
  {
   "cell_type": "code",
   "execution_count": 18,
   "metadata": {},
   "outputs": [
    {
     "name": "stdout",
     "output_type": "stream",
     "text": [
      "3) If I smell smoke, what's the chance that I will leave my apartment for evacuation?\n"
     ]
    },
    {
     "name": "stderr",
     "output_type": "stream",
     "text": [
      "Finding Elimination Order: : 100%|█████████████████████████████████████████████████████| 4/4 [00:00<00:00, 4010.81it/s]\n",
      "Eliminating: D: 100%|███████████████████████████████████████████████████████████████████| 4/4 [00:00<00:00, 501.35it/s]\n"
     ]
    },
    {
     "name": "stdout",
     "output_type": "stream",
     "text": [
      "+--------------+----------+\n",
      "| E            |   phi(E) |\n",
      "+==============+==========+\n",
      "| E(Not Leave) |   0.9765 |\n",
      "+--------------+----------+\n",
      "| E(Leave)     |   0.0235 |\n",
      "+--------------+----------+\n"
     ]
    }
   ],
   "source": [
    "# 3) If I smell smoke, what's the chance that I will leave my apartment for evacuation?\n",
    "print(\"3) If I smell smoke, what's the chance that I will leave my apartment for evacuation?\")\n",
    "print(infer_p3.query(['E'], evidence={'S':'Smelled'}))"
   ]
  },
  {
   "cell_type": "code",
   "execution_count": 19,
   "metadata": {},
   "outputs": [
    {
     "name": "stdout",
     "output_type": "stream",
     "text": [
      "2) If I hear an alarm, what's the chance that I will leave my apartment for evacuation?\n"
     ]
    },
    {
     "name": "stderr",
     "output_type": "stream",
     "text": [
      "Finding Elimination Order: : 100%|█████████████████████████████████████████████████████| 3/3 [00:00<00:00, 3009.55it/s]\n",
      "Eliminating: D: 100%|███████████████████████████████████████████████████████████████████| 3/3 [00:00<00:00, 752.12it/s]\n"
     ]
    },
    {
     "name": "stdout",
     "output_type": "stream",
     "text": [
      "+--------------+----------+\n",
      "| E            |   phi(E) |\n",
      "+==============+==========+\n",
      "| E(Not Leave) |   0.4050 |\n",
      "+--------------+----------+\n",
      "| E(Leave)     |   0.5950 |\n",
      "+--------------+----------+\n"
     ]
    }
   ],
   "source": [
    "# 4) If I head an alarm and saw a notice about it before, what's the chance that I will leave my apartment for evacuation?\n",
    "print(\"2) If I hear an alarm, what's the chance that I will leave my apartment for evacuation?\")\n",
    "print(infer_p3.query(['E'], evidence={'N':'Posted', 'A':'Alarmed'}))"
   ]
  }
 ],
 "metadata": {
  "kernelspec": {
   "display_name": "Python 3",
   "language": "python",
   "name": "python3"
  },
  "language_info": {
   "codemirror_mode": {
    "name": "ipython",
    "version": 3
   },
   "file_extension": ".py",
   "mimetype": "text/x-python",
   "name": "python",
   "nbconvert_exporter": "python",
   "pygments_lexer": "ipython3",
   "version": "3.7.4"
  }
 },
 "nbformat": 4,
 "nbformat_minor": 2
}
